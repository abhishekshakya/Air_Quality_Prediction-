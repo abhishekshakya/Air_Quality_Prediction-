{
 "cells": [
  {
   "cell_type": "code",
   "execution_count": 1,
   "metadata": {},
   "outputs": [],
   "source": [
    "import pandas as pd\n",
    "import matplotlib.pyplot as plt\n",
    "import numpy as np"
   ]
  },
  {
   "cell_type": "code",
   "execution_count": 3,
   "metadata": {},
   "outputs": [
    {
     "data": {
      "text/html": [
       "<div>\n",
       "<style scoped>\n",
       "    .dataframe tbody tr th:only-of-type {\n",
       "        vertical-align: middle;\n",
       "    }\n",
       "\n",
       "    .dataframe tbody tr th {\n",
       "        vertical-align: top;\n",
       "    }\n",
       "\n",
       "    .dataframe thead th {\n",
       "        text-align: right;\n",
       "    }\n",
       "</style>\n",
       "<table border=\"1\" class=\"dataframe\">\n",
       "  <thead>\n",
       "    <tr style=\"text-align: right;\">\n",
       "      <th></th>\n",
       "      <th>feature_1</th>\n",
       "      <th>feature_2</th>\n",
       "      <th>feature_3</th>\n",
       "      <th>feature_4</th>\n",
       "      <th>feature_5</th>\n",
       "      <th>target</th>\n",
       "    </tr>\n",
       "  </thead>\n",
       "  <tbody>\n",
       "    <tr>\n",
       "      <th>0</th>\n",
       "      <td>0.293416</td>\n",
       "      <td>-0.945599</td>\n",
       "      <td>-0.421105</td>\n",
       "      <td>0.406816</td>\n",
       "      <td>0.525662</td>\n",
       "      <td>-82.154667</td>\n",
       "    </tr>\n",
       "    <tr>\n",
       "      <th>1</th>\n",
       "      <td>-0.836084</td>\n",
       "      <td>-0.189228</td>\n",
       "      <td>-0.776403</td>\n",
       "      <td>-1.053831</td>\n",
       "      <td>0.597997</td>\n",
       "      <td>-48.897960</td>\n",
       "    </tr>\n",
       "    <tr>\n",
       "      <th>2</th>\n",
       "      <td>0.236425</td>\n",
       "      <td>0.132836</td>\n",
       "      <td>-0.147723</td>\n",
       "      <td>0.699854</td>\n",
       "      <td>-0.187364</td>\n",
       "      <td>77.270371</td>\n",
       "    </tr>\n",
       "    <tr>\n",
       "      <th>3</th>\n",
       "      <td>0.175312</td>\n",
       "      <td>0.143194</td>\n",
       "      <td>-0.581111</td>\n",
       "      <td>-0.122107</td>\n",
       "      <td>-1.292168</td>\n",
       "      <td>-2.988581</td>\n",
       "    </tr>\n",
       "    <tr>\n",
       "      <th>4</th>\n",
       "      <td>-1.693011</td>\n",
       "      <td>0.542712</td>\n",
       "      <td>-2.798729</td>\n",
       "      <td>-0.686723</td>\n",
       "      <td>1.244077</td>\n",
       "      <td>-37.596722</td>\n",
       "    </tr>\n",
       "  </tbody>\n",
       "</table>\n",
       "</div>"
      ],
      "text/plain": [
       "   feature_1  feature_2  feature_3  feature_4  feature_5     target\n",
       "0   0.293416  -0.945599  -0.421105   0.406816   0.525662 -82.154667\n",
       "1  -0.836084  -0.189228  -0.776403  -1.053831   0.597997 -48.897960\n",
       "2   0.236425   0.132836  -0.147723   0.699854  -0.187364  77.270371\n",
       "3   0.175312   0.143194  -0.581111  -0.122107  -1.292168  -2.988581\n",
       "4  -1.693011   0.542712  -2.798729  -0.686723   1.244077 -37.596722"
      ]
     },
     "execution_count": 3,
     "metadata": {},
     "output_type": "execute_result"
    }
   ],
   "source": [
    "df = pd.read_csv('Train.csv')\n",
    "df.head()"
   ]
  },
  {
   "cell_type": "code",
   "execution_count": 4,
   "metadata": {},
   "outputs": [
    {
     "data": {
      "text/plain": [
       "feature_1    0\n",
       "feature_2    0\n",
       "feature_3    0\n",
       "feature_4    0\n",
       "feature_5    0\n",
       "target       0\n",
       "dtype: int64"
      ]
     },
     "execution_count": 4,
     "metadata": {},
     "output_type": "execute_result"
    }
   ],
   "source": [
    "df.isnull().sum()"
   ]
  },
  {
   "cell_type": "code",
   "execution_count": 11,
   "metadata": {},
   "outputs": [
    {
     "data": {
      "text/html": [
       "<div>\n",
       "<style scoped>\n",
       "    .dataframe tbody tr th:only-of-type {\n",
       "        vertical-align: middle;\n",
       "    }\n",
       "\n",
       "    .dataframe tbody tr th {\n",
       "        vertical-align: top;\n",
       "    }\n",
       "\n",
       "    .dataframe thead th {\n",
       "        text-align: right;\n",
       "    }\n",
       "</style>\n",
       "<table border=\"1\" class=\"dataframe\">\n",
       "  <thead>\n",
       "    <tr style=\"text-align: right;\">\n",
       "      <th></th>\n",
       "      <th>feature_1</th>\n",
       "      <th>feature_2</th>\n",
       "      <th>feature_3</th>\n",
       "      <th>feature_4</th>\n",
       "      <th>feature_5</th>\n",
       "      <th>target</th>\n",
       "    </tr>\n",
       "  </thead>\n",
       "  <tbody>\n",
       "    <tr>\n",
       "      <th>count</th>\n",
       "      <td>1600.000000</td>\n",
       "      <td>1600.000000</td>\n",
       "      <td>1600.000000</td>\n",
       "      <td>1600.000000</td>\n",
       "      <td>1600.000000</td>\n",
       "      <td>1600.000000</td>\n",
       "    </tr>\n",
       "    <tr>\n",
       "      <th>mean</th>\n",
       "      <td>0.004114</td>\n",
       "      <td>-0.027604</td>\n",
       "      <td>-0.044459</td>\n",
       "      <td>-0.042408</td>\n",
       "      <td>0.012005</td>\n",
       "      <td>0.318835</td>\n",
       "    </tr>\n",
       "    <tr>\n",
       "      <th>std</th>\n",
       "      <td>0.997338</td>\n",
       "      <td>1.021776</td>\n",
       "      <td>1.011768</td>\n",
       "      <td>1.017189</td>\n",
       "      <td>0.978654</td>\n",
       "      <td>110.741562</td>\n",
       "    </tr>\n",
       "    <tr>\n",
       "      <th>min</th>\n",
       "      <td>-3.380125</td>\n",
       "      <td>-3.314844</td>\n",
       "      <td>-3.153118</td>\n",
       "      <td>-3.250169</td>\n",
       "      <td>-2.851707</td>\n",
       "      <td>-379.829794</td>\n",
       "    </tr>\n",
       "    <tr>\n",
       "      <th>25%</th>\n",
       "      <td>-0.647165</td>\n",
       "      <td>-0.705030</td>\n",
       "      <td>-0.706385</td>\n",
       "      <td>-0.709504</td>\n",
       "      <td>-0.615880</td>\n",
       "      <td>-71.897040</td>\n",
       "    </tr>\n",
       "    <tr>\n",
       "      <th>50%</th>\n",
       "      <td>-0.000360</td>\n",
       "      <td>-0.043769</td>\n",
       "      <td>-0.041272</td>\n",
       "      <td>-0.029756</td>\n",
       "      <td>-0.013527</td>\n",
       "      <td>-0.610665</td>\n",
       "    </tr>\n",
       "    <tr>\n",
       "      <th>75%</th>\n",
       "      <td>0.682118</td>\n",
       "      <td>0.645442</td>\n",
       "      <td>0.639130</td>\n",
       "      <td>0.646290</td>\n",
       "      <td>0.650089</td>\n",
       "      <td>71.226603</td>\n",
       "    </tr>\n",
       "    <tr>\n",
       "      <th>max</th>\n",
       "      <td>3.287205</td>\n",
       "      <td>3.438895</td>\n",
       "      <td>3.216176</td>\n",
       "      <td>2.985410</td>\n",
       "      <td>3.321770</td>\n",
       "      <td>337.643014</td>\n",
       "    </tr>\n",
       "  </tbody>\n",
       "</table>\n",
       "</div>"
      ],
      "text/plain": [
       "         feature_1    feature_2    feature_3    feature_4    feature_5  \\\n",
       "count  1600.000000  1600.000000  1600.000000  1600.000000  1600.000000   \n",
       "mean      0.004114    -0.027604    -0.044459    -0.042408     0.012005   \n",
       "std       0.997338     1.021776     1.011768     1.017189     0.978654   \n",
       "min      -3.380125    -3.314844    -3.153118    -3.250169    -2.851707   \n",
       "25%      -0.647165    -0.705030    -0.706385    -0.709504    -0.615880   \n",
       "50%      -0.000360    -0.043769    -0.041272    -0.029756    -0.013527   \n",
       "75%       0.682118     0.645442     0.639130     0.646290     0.650089   \n",
       "max       3.287205     3.438895     3.216176     2.985410     3.321770   \n",
       "\n",
       "            target  \n",
       "count  1600.000000  \n",
       "mean      0.318835  \n",
       "std     110.741562  \n",
       "min    -379.829794  \n",
       "25%     -71.897040  \n",
       "50%      -0.610665  \n",
       "75%      71.226603  \n",
       "max     337.643014  "
      ]
     },
     "execution_count": 11,
     "metadata": {},
     "output_type": "execute_result"
    }
   ],
   "source": [
    "df.describe()"
   ]
  },
  {
   "cell_type": "code",
   "execution_count": 9,
   "metadata": {},
   "outputs": [],
   "source": [
    "X = df.drop(columns=['target']).values\n",
    "y = df['target'].values"
   ]
  },
  {
   "cell_type": "code",
   "execution_count": 14,
   "metadata": {},
   "outputs": [
    {
     "name": "stdout",
     "output_type": "stream",
     "text": [
      "X_train shape  (1280, 5)  y_train shape  (1280,)\n"
     ]
    }
   ],
   "source": [
    "from sklearn.model_selection import train_test_split\n",
    "X_train,X_test,y_train,y_test = train_test_split(X,y,test_size=.20)\n",
    "print('X_train shape ',X_train.shape,' y_train shape ',y_train.shape)"
   ]
  },
  {
   "cell_type": "code",
   "execution_count": 99,
   "metadata": {},
   "outputs": [
    {
     "data": {
      "text/plain": [
       "LinearRegression(copy_X=True, fit_intercept=True, n_jobs=None, normalize=False)"
      ]
     },
     "execution_count": 99,
     "metadata": {},
     "output_type": "execute_result"
    }
   ],
   "source": [
    "#all the input seems fine \n",
    "#Linear Regression\n",
    "from sklearn.linear_model import LinearRegression\n",
    "reg1 = LinearRegression()\n",
    "reg1.fit(X_train,y_train)"
   ]
  },
  {
   "cell_type": "code",
   "execution_count": 100,
   "metadata": {},
   "outputs": [],
   "source": [
    "y_predict = reg1.predict(X_test)"
   ]
  },
  {
   "cell_type": "code",
   "execution_count": 101,
   "metadata": {},
   "outputs": [
    {
     "name": "stdout",
     "output_type": "stream",
     "text": [
      "root mean error is : 20.415146883335883\n"
     ]
    }
   ],
   "source": [
    "from sklearn.metrics import mean_squared_error\n",
    "print('root mean error is :',mean_squared_error(y_test,y_predict)**0.5)"
   ]
  },
  {
   "cell_type": "code",
   "execution_count": 22,
   "metadata": {},
   "outputs": [
    {
     "data": {
      "text/plain": [
       "DecisionTreeRegressor(criterion='mse', max_depth=None, max_features=None,\n",
       "                      max_leaf_nodes=None, min_impurity_decrease=0.0,\n",
       "                      min_impurity_split=None, min_samples_leaf=1,\n",
       "                      min_samples_split=2, min_weight_fraction_leaf=0.0,\n",
       "                      presort=False, random_state=None, splitter='best')"
      ]
     },
     "execution_count": 22,
     "metadata": {},
     "output_type": "execute_result"
    }
   ],
   "source": [
    "#Decision Tree\n",
    "from sklearn.tree import DecisionTreeRegressor\n",
    "reg2 = DecisionTreeRegressor()\n",
    "reg2.fit(X_train,y_train)"
   ]
  },
  {
   "cell_type": "code",
   "execution_count": 23,
   "metadata": {},
   "outputs": [],
   "source": [
    "y_predict2 = reg2.predict(X_test)"
   ]
  },
  {
   "cell_type": "code",
   "execution_count": 24,
   "metadata": {},
   "outputs": [
    {
     "name": "stdout",
     "output_type": "stream",
     "text": [
      "root mean error is : 39.78759467541488\n"
     ]
    }
   ],
   "source": [
    "print('root mean error is :',mean_squared_error(y_test,y_predict2)**0.5)"
   ]
  },
  {
   "cell_type": "code",
   "execution_count": 60,
   "metadata": {},
   "outputs": [
    {
     "data": {
      "text/plain": [
       "RandomForestRegressor(bootstrap=True, criterion='mse', max_depth=None,\n",
       "                      max_features='auto', max_leaf_nodes=None,\n",
       "                      min_impurity_decrease=0.0, min_impurity_split=None,\n",
       "                      min_samples_leaf=1, min_samples_split=2,\n",
       "                      min_weight_fraction_leaf=0.0, n_estimators=10,\n",
       "                      n_jobs=None, oob_score=False, random_state=None,\n",
       "                      verbose=0, warm_start=False)"
      ]
     },
     "execution_count": 60,
     "metadata": {},
     "output_type": "execute_result"
    }
   ],
   "source": [
    "#Ensemble\n",
    "from sklearn.ensemble import RandomForestRegressor\n",
    "reg3 = RandomForestRegressor(n_estimators=10)\n",
    "reg3.fit(X_train,y_train)"
   ]
  },
  {
   "cell_type": "code",
   "execution_count": 61,
   "metadata": {},
   "outputs": [],
   "source": [
    "y_predict3 = reg3.predict(X_test)"
   ]
  },
  {
   "cell_type": "code",
   "execution_count": 62,
   "metadata": {},
   "outputs": [
    {
     "name": "stdout",
     "output_type": "stream",
     "text": [
      "root mean error is : 27.05683965329556\n"
     ]
    }
   ],
   "source": [
    "print('root mean error is :',mean_squared_error(y_test,y_predict3)**0.5)"
   ]
  },
  {
   "cell_type": "code",
   "execution_count": 96,
   "metadata": {},
   "outputs": [
    {
     "name": "stderr",
     "output_type": "stream",
     "text": [
      "C:\\Users\\abhis\\Anaconda3\\lib\\site-packages\\sklearn\\svm\\base.py:193: FutureWarning: The default value of gamma will change from 'auto' to 'scale' in version 0.22 to account better for unscaled features. Set gamma explicitly to 'auto' or 'scale' to avoid this warning.\n",
      "  \"avoid this warning.\", FutureWarning)\n"
     ]
    },
    {
     "data": {
      "text/plain": [
       "SVR(C=1.0, cache_size=200, coef0=0.0, degree=1, epsilon=0.1,\n",
       "    gamma='auto_deprecated', kernel='poly', max_iter=-1, shrinking=True,\n",
       "    tol=0.001, verbose=False)"
      ]
     },
     "execution_count": 96,
     "metadata": {},
     "output_type": "execute_result"
    }
   ],
   "source": [
    "#SCR\n",
    "from sklearn.svm import SVR\n",
    "svr = SVR(kernel='poly',degree=1)\n",
    "svr.fit(X_train,y_train)"
   ]
  },
  {
   "cell_type": "code",
   "execution_count": 97,
   "metadata": {},
   "outputs": [],
   "source": [
    "y_predict4 = svr.predict(X_test)"
   ]
  },
  {
   "cell_type": "code",
   "execution_count": 98,
   "metadata": {},
   "outputs": [
    {
     "name": "stdout",
     "output_type": "stream",
     "text": [
      "root mean error is : 22.806925139531483\n"
     ]
    }
   ],
   "source": [
    "print('root mean error is :',mean_squared_error(y_test,y_predict4)**0.5)"
   ]
  },
  {
   "cell_type": "code",
   "execution_count": 102,
   "metadata": {},
   "outputs": [],
   "source": [
    "#Therefore linear model will be the best fit for this"
   ]
  },
  {
   "cell_type": "code",
   "execution_count": 103,
   "metadata": {},
   "outputs": [
    {
     "data": {
      "text/html": [
       "<div>\n",
       "<style scoped>\n",
       "    .dataframe tbody tr th:only-of-type {\n",
       "        vertical-align: middle;\n",
       "    }\n",
       "\n",
       "    .dataframe tbody tr th {\n",
       "        vertical-align: top;\n",
       "    }\n",
       "\n",
       "    .dataframe thead th {\n",
       "        text-align: right;\n",
       "    }\n",
       "</style>\n",
       "<table border=\"1\" class=\"dataframe\">\n",
       "  <thead>\n",
       "    <tr style=\"text-align: right;\">\n",
       "      <th></th>\n",
       "      <th>feature_1</th>\n",
       "      <th>feature_2</th>\n",
       "      <th>feature_3</th>\n",
       "      <th>feature_4</th>\n",
       "      <th>feature_5</th>\n",
       "    </tr>\n",
       "  </thead>\n",
       "  <tbody>\n",
       "    <tr>\n",
       "      <th>0</th>\n",
       "      <td>1.015254</td>\n",
       "      <td>2.076209</td>\n",
       "      <td>-0.266435</td>\n",
       "      <td>-2.418088</td>\n",
       "      <td>-0.980503</td>\n",
       "    </tr>\n",
       "    <tr>\n",
       "      <th>1</th>\n",
       "      <td>-0.375021</td>\n",
       "      <td>0.953185</td>\n",
       "      <td>0.626719</td>\n",
       "      <td>0.704406</td>\n",
       "      <td>-0.355489</td>\n",
       "    </tr>\n",
       "    <tr>\n",
       "      <th>2</th>\n",
       "      <td>-1.024452</td>\n",
       "      <td>0.962991</td>\n",
       "      <td>-0.407942</td>\n",
       "      <td>-1.861274</td>\n",
       "      <td>0.455201</td>\n",
       "    </tr>\n",
       "    <tr>\n",
       "      <th>3</th>\n",
       "      <td>-2.489841</td>\n",
       "      <td>0.544802</td>\n",
       "      <td>0.601219</td>\n",
       "      <td>-0.607021</td>\n",
       "      <td>-1.314286</td>\n",
       "    </tr>\n",
       "    <tr>\n",
       "      <th>4</th>\n",
       "      <td>-0.384675</td>\n",
       "      <td>-0.833624</td>\n",
       "      <td>1.358552</td>\n",
       "      <td>-0.547932</td>\n",
       "      <td>0.411925</td>\n",
       "    </tr>\n",
       "  </tbody>\n",
       "</table>\n",
       "</div>"
      ],
      "text/plain": [
       "   feature_1  feature_2  feature_3  feature_4  feature_5\n",
       "0   1.015254   2.076209  -0.266435  -2.418088  -0.980503\n",
       "1  -0.375021   0.953185   0.626719   0.704406  -0.355489\n",
       "2  -1.024452   0.962991  -0.407942  -1.861274   0.455201\n",
       "3  -2.489841   0.544802   0.601219  -0.607021  -1.314286\n",
       "4  -0.384675  -0.833624   1.358552  -0.547932   0.411925"
      ]
     },
     "execution_count": 103,
     "metadata": {},
     "output_type": "execute_result"
    }
   ],
   "source": [
    "df_test = pd.read_csv('Test.csv')\n",
    "df_test.head()"
   ]
  },
  {
   "cell_type": "code",
   "execution_count": 106,
   "metadata": {},
   "outputs": [
    {
     "data": {
      "text/plain": [
       "array([[ 1.01525387e+00,  2.07620944e+00, -2.66434820e-01,\n",
       "        -2.41808820e+00, -9.80502790e-01],\n",
       "       [-3.75021204e-01,  9.53184528e-01,  6.26719138e-01,\n",
       "         7.04405750e-01, -3.55489211e-01],\n",
       "       [-1.02445225e+00,  9.62991107e-01, -4.07942004e-01,\n",
       "        -1.86127383e+00,  4.55201351e-01],\n",
       "       ...,\n",
       "       [ 5.54727647e-01,  1.76824345e+00, -8.97787210e-01,\n",
       "        -1.19366107e+00,  3.40563374e-01],\n",
       "       [-1.62717246e+00,  8.56470994e-01, -5.65729519e-04,\n",
       "         6.29386649e-01,  4.53382144e-01],\n",
       "       [ 1.39310499e-01,  5.31597186e-01, -8.53107053e-01,\n",
       "         3.16920076e-02,  1.71489304e+00]])"
      ]
     },
     "execution_count": 106,
     "metadata": {},
     "output_type": "execute_result"
    }
   ],
   "source": [
    "test = df_test.iloc[:,:].values\n",
    "test"
   ]
  },
  {
   "cell_type": "code",
   "execution_count": 107,
   "metadata": {},
   "outputs": [],
   "source": [
    "prediction = reg1.predict(test)"
   ]
  },
  {
   "cell_type": "code",
   "execution_count": 108,
   "metadata": {},
   "outputs": [
    {
     "data": {
      "text/plain": [
       "array([ 1.16252844e+02,  1.17826744e+02, -2.17144502e+01, -4.52525000e+01,\n",
       "       -9.55650957e+01, -4.34146478e+01, -7.66092785e+01,  2.31179883e+01,\n",
       "        1.73672931e+02,  1.73551415e+02, -1.05644930e+02, -2.09852520e+01,\n",
       "       -4.15146672e+00,  1.23969383e+02,  4.17710665e+01,  4.53595577e+01,\n",
       "       -1.87914414e+02,  2.38403428e+01,  1.06691480e+01,  1.38057831e+02,\n",
       "        6.48980214e+01, -6.19360459e+01, -1.08621182e+02, -6.62887692e+00,\n",
       "       -5.93751083e+01,  1.17473049e+01,  3.06077529e+01,  1.07649969e+02,\n",
       "        2.51689222e+01, -2.66722077e+01,  1.11787388e+02, -4.48267575e+01,\n",
       "        2.16912969e+02, -1.26044269e+01, -2.28859085e+02,  1.55200135e+02,\n",
       "       -8.92946616e-02,  1.24981091e+01, -3.09664912e+02,  7.80467400e+01,\n",
       "       -8.07286757e+01, -2.07266708e+02, -2.38762697e+02,  1.34754929e+02,\n",
       "       -7.48365331e+01,  1.07599377e+02, -3.31093200e+00,  2.12567105e+01,\n",
       "       -9.75192858e+01, -2.70689555e+01,  1.03318276e+01, -1.74040407e+02,\n",
       "        6.60167704e+01, -9.65051576e+01, -1.06875201e+02, -1.55121173e+02,\n",
       "        6.15773323e+01,  1.09578395e+02, -7.48465544e+01,  4.04598665e+01,\n",
       "        4.18174938e+01, -5.02693494e+01,  1.65462669e+02,  4.53618064e+01,\n",
       "        5.78372259e+01,  2.39424707e+01,  8.22856726e+01, -1.47703072e+00,\n",
       "       -2.48311635e+00,  2.11818716e+00, -2.50105933e+01,  1.62146840e+02,\n",
       "       -4.09657893e+01,  2.12601638e+01, -6.60148457e+01, -6.78493769e+01,\n",
       "        3.73511610e+01, -1.59861015e+02, -1.51835027e+00,  1.51112611e+02,\n",
       "       -3.77638989e+01, -1.19866899e+02, -1.95384875e+02,  3.57327236e+01,\n",
       "        1.47216589e+02,  2.71739993e+02, -2.56905477e+02, -8.74452623e+01,\n",
       "        7.49558535e+01, -9.00653257e+01, -4.97711681e+01,  1.26687801e+02,\n",
       "       -1.64579187e+02, -1.17074601e+02,  4.81505653e+01,  9.77638003e+01,\n",
       "       -2.15277421e+02, -1.21434536e+02, -1.71753476e+02, -5.03576027e+01,\n",
       "        1.27789832e+02, -8.36779457e+01, -3.83086162e+00, -2.25706095e+00,\n",
       "        1.68020314e-01,  8.18868623e+01,  4.48859896e+01,  9.31540471e+01,\n",
       "       -3.13948546e+01, -8.42383484e+01,  3.67761954e+01,  1.76362676e+01,\n",
       "        1.18409587e+02,  7.42926602e+00,  7.37900989e+01,  3.27240165e+01,\n",
       "       -1.41434795e+02,  8.33501568e+00,  2.03447400e+01, -2.32043616e+01,\n",
       "       -2.20370068e+01, -2.55128297e+02,  2.68252272e+02,  1.53285078e+02,\n",
       "        1.30086860e+01,  8.33836008e+01, -1.32221702e+01, -1.53946915e+02,\n",
       "        1.13138263e+02, -3.18294449e+01, -2.15731337e+02,  1.21797995e+02,\n",
       "       -3.07055766e+01, -8.58989576e+01,  1.70978103e+02,  4.08949167e+01,\n",
       "       -1.93372364e+01,  6.40368052e+01,  4.68252362e+01, -1.75558291e+02,\n",
       "        1.29590811e+02, -7.38135066e+01,  2.13285330e+02,  1.35535041e+02,\n",
       "       -7.50395911e-01, -1.54718003e+02, -1.59781286e+01,  1.34076560e+02,\n",
       "        3.63689112e+01,  5.78451123e+01, -3.56544148e+00, -4.32476564e+01,\n",
       "        1.84181401e+01, -7.14673514e+01,  2.78553862e+01,  1.41743824e+02,\n",
       "        3.47434977e+02,  2.16780788e+02,  2.84432046e+01, -3.71023026e+01,\n",
       "       -1.71147496e+02,  1.35288567e+01,  2.99746120e+02,  7.67386594e+01,\n",
       "       -2.15017453e+01,  1.55167318e+02, -1.55782889e+02,  1.40324696e+02,\n",
       "        1.71728046e+02, -4.58356008e+01,  6.61261840e+01,  9.78273276e+01,\n",
       "        9.53587914e+01,  3.16935644e+01,  1.75336702e+02, -1.51780511e+02,\n",
       "       -9.50735427e+01, -1.71450291e+02, -1.84262769e+01, -1.08244552e+02,\n",
       "       -1.51458401e+01, -5.97102570e+01, -7.55204783e+01,  6.87630704e+01,\n",
       "       -6.89654818e+01,  8.85093908e+01, -5.82147580e+01, -1.10822804e+02,\n",
       "       -7.83134837e+01,  1.85881553e+02, -4.13512541e+01,  2.19963632e+02,\n",
       "       -5.55255186e+01, -8.41703741e+01,  4.66477619e+01,  2.12895090e+00,\n",
       "        7.14407734e+01, -6.16634518e+01,  2.10238298e+02, -1.37936394e+02,\n",
       "       -9.54442186e+01, -1.15134492e+02,  2.46005222e+01,  5.50183948e+01,\n",
       "        1.51658240e+02,  4.86055282e+01,  9.07132813e+01,  1.73593957e+02,\n",
       "       -2.70418716e+02, -1.74167689e+02, -1.05415625e+02, -8.25583172e+01,\n",
       "        2.85327098e+01, -4.92683650e+01,  7.87170716e+01, -1.96564127e+01,\n",
       "       -5.23644440e+01, -2.91401222e+01,  6.67389949e+01,  9.24286515e+01,\n",
       "       -8.17352812e+01, -1.48487270e+02,  5.07436707e+01,  2.38106532e+02,\n",
       "       -4.75217690e+01,  1.59226807e+01, -6.06826010e+01,  1.37919727e+01,\n",
       "        1.04658530e+01,  3.84444693e+01,  1.15008699e+02,  1.92441189e+01,\n",
       "       -1.08715964e+02,  4.61358432e+01,  9.94014496e+01, -8.84504316e+01,\n",
       "       -1.76824787e+02,  1.70339020e+02,  1.09234194e+02,  6.46942239e+01,\n",
       "       -9.20067177e+00, -2.43624027e+01, -4.79761230e+01, -1.71270206e+02,\n",
       "       -6.49778369e+01, -2.73804509e+01, -1.71339506e+02, -2.94138996e+01,\n",
       "        3.46982048e+01, -1.22947336e+02,  1.66504227e+01,  1.33904165e-02,\n",
       "       -2.53630199e+02, -2.55088992e+02, -1.65992820e+02,  4.84256367e+01,\n",
       "        1.30889689e+02,  7.18477213e+01,  1.19004533e+02,  9.47587025e+01,\n",
       "        2.19158306e+01, -3.05574174e+02,  1.87077825e+02, -1.29958849e+02,\n",
       "       -4.48321308e+01, -8.39649870e+01, -8.71303476e+01,  1.37035683e+02,\n",
       "        1.61976872e+02, -4.14750542e+01, -1.42059179e+02,  1.13292819e+02,\n",
       "       -2.10498872e+01,  8.78493335e+01,  1.06452727e+02,  2.59790381e+01,\n",
       "       -5.11945313e+01, -2.61046373e+01,  3.09249708e+01,  7.26039595e+01,\n",
       "        2.85658259e+01, -1.28637201e+02, -1.42296759e+01, -1.30439029e+01,\n",
       "       -1.27164338e+02,  1.63554082e+02, -1.13400174e+01, -1.34506241e+02,\n",
       "        2.07103405e+02,  4.89044204e+01,  9.36345414e+01,  3.08207238e+01,\n",
       "        2.07588012e+02, -3.86021805e+01, -3.12887256e+01, -4.13365260e+01,\n",
       "        5.22199563e+01, -6.28778061e+01,  9.34791757e+01, -8.53143766e+01,\n",
       "       -9.49000181e+01, -2.40187085e+01, -9.05113287e+01, -2.40960363e+01,\n",
       "        6.09758987e+01, -3.24916027e+01, -7.36394128e+01, -1.80196283e+02,\n",
       "       -1.62845481e+02,  4.01224748e+01,  8.38262782e+01,  3.03699927e+02,\n",
       "        1.29518855e+02,  1.30975141e+02,  5.30612180e+01, -2.13279224e+01,\n",
       "        1.84727986e+02, -5.99649259e+01,  1.29540111e+02,  1.52247755e+02,\n",
       "       -3.34436092e+01, -2.03430682e+02, -9.86247933e+01,  4.35118275e+00,\n",
       "       -4.57154086e+01, -3.76272189e+01,  1.57733797e+02,  1.34327555e+02,\n",
       "        2.60345249e+01, -8.92509135e+01,  1.87743529e+02, -6.42349313e+01,\n",
       "        6.68556791e+01,  8.04537870e+01,  9.94555142e+01, -1.06019435e+02,\n",
       "        1.13624032e+02, -3.51179252e+01,  8.88579734e+01, -8.22499603e+01,\n",
       "       -2.02480024e+02,  1.57550244e+02, -9.33743649e+01,  6.55935083e+01,\n",
       "        1.25279233e+02,  3.11855462e+01, -1.75199085e+02, -3.42745549e+01,\n",
       "       -4.88440539e+01, -1.17641223e+02,  1.05292830e+01, -8.74449774e+01,\n",
       "       -3.81019060e+01, -1.63898309e+02, -2.20303765e+02,  5.34248981e+00,\n",
       "       -2.06146536e+02,  1.85943652e+02, -8.82751214e+00,  1.93593531e+01,\n",
       "        3.27144481e+01,  2.41899855e+02, -2.70021340e+01,  1.35220642e+02,\n",
       "        5.74633654e+01,  9.83733906e+00, -8.74104010e+01, -9.77027341e+00,\n",
       "        2.22461977e+02, -1.48784107e+01, -1.36465494e+02, -5.13794259e+01,\n",
       "       -9.27662505e+01,  8.27772033e+00, -1.55899144e+01, -6.43211296e+01,\n",
       "       -1.56376547e+01, -1.72383815e+02, -1.22997341e+02,  4.43700676e+01,\n",
       "       -3.59604057e+01, -1.58183130e+02,  8.63801098e+01, -4.08714277e-02,\n",
       "        1.34035305e+02, -4.67934777e+01,  3.93416914e+00,  1.74402983e+02,\n",
       "        1.71632929e+02,  4.58916179e+01, -2.64576943e+01,  6.02937494e+01,\n",
       "        1.12379323e+02, -3.67279489e+01, -6.92289004e+01, -8.25561275e+01,\n",
       "       -1.86486802e+02,  1.26108170e+02,  6.42137257e+01,  5.71661053e+01])"
      ]
     },
     "execution_count": 108,
     "metadata": {},
     "output_type": "execute_result"
    }
   ],
   "source": [
    "prediction"
   ]
  },
  {
   "cell_type": "code",
   "execution_count": 111,
   "metadata": {},
   "outputs": [
    {
     "data": {
      "text/html": [
       "<div>\n",
       "<style scoped>\n",
       "    .dataframe tbody tr th:only-of-type {\n",
       "        vertical-align: middle;\n",
       "    }\n",
       "\n",
       "    .dataframe tbody tr th {\n",
       "        vertical-align: top;\n",
       "    }\n",
       "\n",
       "    .dataframe thead th {\n",
       "        text-align: right;\n",
       "    }\n",
       "</style>\n",
       "<table border=\"1\" class=\"dataframe\">\n",
       "  <thead>\n",
       "    <tr style=\"text-align: right;\">\n",
       "      <th></th>\n",
       "      <th>0</th>\n",
       "    </tr>\n",
       "  </thead>\n",
       "  <tbody>\n",
       "    <tr>\n",
       "      <th>0</th>\n",
       "      <td>116.252844</td>\n",
       "    </tr>\n",
       "    <tr>\n",
       "      <th>1</th>\n",
       "      <td>117.826744</td>\n",
       "    </tr>\n",
       "    <tr>\n",
       "      <th>2</th>\n",
       "      <td>-21.714450</td>\n",
       "    </tr>\n",
       "    <tr>\n",
       "      <th>3</th>\n",
       "      <td>-45.252500</td>\n",
       "    </tr>\n",
       "    <tr>\n",
       "      <th>4</th>\n",
       "      <td>-95.565096</td>\n",
       "    </tr>\n",
       "  </tbody>\n",
       "</table>\n",
       "</div>"
      ],
      "text/plain": [
       "            0\n",
       "0  116.252844\n",
       "1  117.826744\n",
       "2  -21.714450\n",
       "3  -45.252500\n",
       "4  -95.565096"
      ]
     },
     "execution_count": 111,
     "metadata": {},
     "output_type": "execute_result"
    }
   ],
   "source": [
    "sub = pd.DataFrame(prediction)\n",
    "sub.head()"
   ]
  },
  {
   "cell_type": "code",
   "execution_count": 113,
   "metadata": {},
   "outputs": [],
   "source": [
    "sub.to_csv('SampleOut.csv',index = True)"
   ]
  },
  {
   "cell_type": "code",
   "execution_count": null,
   "metadata": {},
   "outputs": [],
   "source": []
  }
 ],
 "metadata": {
  "kernelspec": {
   "display_name": "Python 3",
   "language": "python",
   "name": "python3"
  },
  "language_info": {
   "codemirror_mode": {
    "name": "ipython",
    "version": 3
   },
   "file_extension": ".py",
   "mimetype": "text/x-python",
   "name": "python",
   "nbconvert_exporter": "python",
   "pygments_lexer": "ipython3",
   "version": "3.7.3"
  }
 },
 "nbformat": 4,
 "nbformat_minor": 2
}
